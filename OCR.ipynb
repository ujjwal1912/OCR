{
 "cells": [
  {
   "cell_type": "code",
   "execution_count": 22,
   "metadata": {},
   "outputs": [],
   "source": [
    "from PIL import Image\n",
    "import pytesseract\n",
    "import cv2\n",
    "import os\n",
    "import time"
   ]
  },
  {
   "cell_type": "code",
   "execution_count": 23,
   "metadata": {},
   "outputs": [],
   "source": [
    "def preprocess(image):\n",
    "    \n",
    "    try:\n",
    "        gray = cv2.threshold(gray, 0, 255, cv2.THRESH_BINARY | cv2.THRESH_OTSU)[1]\n",
    "    except:\n",
    "        gray = image\n",
    "\n",
    "    filename = \"{}.jpg\".format(os.getpid())\n",
    "    cv2.imwrite(filename, gray)\n",
    "\n",
    "    return filename"
   ]
  },
  {
   "cell_type": "code",
   "execution_count": 24,
   "metadata": {},
   "outputs": [],
   "source": [
    "def ocr(filename):\n",
    "    path = os.getcwd()\n",
    "    im = Image.open(path+\"/\"+filename)\n",
    "    text = pytesseract.image_to_string(im)\n",
    "    print(text)\n",
    "    os.remove(filename)"
   ]
  },
  {
   "cell_type": "code",
   "execution_count": 25,
   "metadata": {},
   "outputs": [
    {
     "name": "stdout",
     "output_type": "stream",
     "text": [
      "Printer model; Brother MFC-6490CW Printer\n",
      "Color support: Yes\n",
      "Port name(s): USB038\n",
      "\n",
      " \n",
      "\n",
      "Data format: RAW\n",
      "Share name:\n",
      "Locatior\n",
      "Comment :\n",
      "iver name: brio08a.dll\n",
      "\n",
      "Priv\n",
      "eae file: BRMEGEO jou\n",
      "file: briud8a.\n",
      "\n",
      "Gonfi tle: brio08a. chm\n"
     ]
    }
   ],
   "source": [
    "im = cv2.imread(\"/home/ujjwal/Desktop/OCR/1.jpg\")\n",
    "x = preprocess(im)\n",
    "ocr(x)"
   ]
  },
  {
   "cell_type": "code",
   "execution_count": 26,
   "metadata": {},
   "outputs": [
    {
     "name": "stdout",
     "output_type": "stream",
     "text": [
      "Tomorrow, and\n",
      "tomorrow, and\n",
      "tomorrow; creeps\n",
      "in this petty pace\n",
      "from day to day,\n",
      "until the last syll-\n",
      "able of recorded\n",
      "time. And all our\n",
      "yesterdays have\n",
      "lighted fools the\n",
      "way to dusty\n"
     ]
    }
   ],
   "source": [
    "im = cv2.imread(\"/home/ujjwal/Desktop/OCR/2.png\")\n",
    "x = preprocess(im)\n",
    "ocr(x)"
   ]
  },
  {
   "cell_type": "code",
   "execution_count": null,
   "metadata": {},
   "outputs": [],
   "source": []
  }
 ],
 "metadata": {
  "kernelspec": {
   "display_name": "Python 3",
   "language": "python",
   "name": "python3"
  },
  "language_info": {
   "codemirror_mode": {
    "name": "ipython",
    "version": 3
   },
   "file_extension": ".py",
   "mimetype": "text/x-python",
   "name": "python",
   "nbconvert_exporter": "python",
   "pygments_lexer": "ipython3",
   "version": "3.6.4"
  }
 },
 "nbformat": 4,
 "nbformat_minor": 2
}
