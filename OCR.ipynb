{
 "cells": [
  {
   "cell_type": "markdown",
   "metadata": {},
   "source": [
    "# OCR"
   ]
  },
  {
   "cell_type": "code",
   "execution_count": 7,
   "metadata": {},
   "outputs": [],
   "source": [
    "#importing libraries\n",
    "from PIL import Image\n",
    "import pytesseract\n",
    "import cv2\n",
    "import os\n",
    "import time\n",
    "from pdf2image import convert_from_path"
   ]
  },
  {
   "cell_type": "markdown",
   "metadata": {},
   "source": [
    "## Convert to gray scale"
   ]
  },
  {
   "cell_type": "code",
   "execution_count": 8,
   "metadata": {},
   "outputs": [],
   "source": [
    "def preprocess(image):\n",
    "    \n",
    "    try:\n",
    "        gray = cv2.threshold(gray, 0, 255, cv2.THRESH_BINARY | cv2.THRESH_OTSU)[1]\n",
    "    except:\n",
    "        gray = image\n",
    "\n",
    "    filename = \"{}.jpg\".format(os.getpid())\n",
    "    cv2.imwrite(filename, gray)\n",
    "\n",
    "    return filename"
   ]
  },
  {
   "cell_type": "markdown",
   "metadata": {},
   "source": [
    "## Writing output of OCR in a file"
   ]
  },
  {
   "cell_type": "code",
   "execution_count": 9,
   "metadata": {},
   "outputs": [],
   "source": [
    "def ocr(filename):\n",
    "    path = os.getcwd()\n",
    "    im = Image.open(path+\"/\"+filename)\n",
    "    text = pytesseract.image_to_string(im)\n",
    "    print(text)\n",
    "    os.remove(filename)"
   ]
  },
  {
   "cell_type": "markdown",
   "metadata": {},
   "source": [
    "## Converting PDF file to images"
   ]
  },
  {
   "cell_type": "code",
   "execution_count": 10,
   "metadata": {},
   "outputs": [
    {
     "name": "stdout",
     "output_type": "stream",
     "text": [
      "1.jpg\n",
      "2.jpg\n",
      "3.jpg\n",
      "4.jpg\n"
     ]
    }
   ],
   "source": [
    "pages = convert_from_path('Rent agreement 2017.pdf',500)\n",
    "count=1\n",
    "os.chdir(\"./images\")\n",
    "for page in pages:\n",
    "    file = \"{}.jpg\".format(count)\n",
    "    print(file)\n",
    "    count+=1\n",
    "    page.save(file,'JPEG')"
   ]
  },
  {
   "cell_type": "markdown",
   "metadata": {},
   "source": [
    "## Extracting Text from Images"
   ]
  },
  {
   "cell_type": "code",
   "execution_count": 11,
   "metadata": {
    "scrolled": false
   },
   "outputs": [
    {
     "name": "stdout",
     "output_type": "stream",
     "text": [
      "INDIA NON JUDICIAL\n",
      "Govern ment of Karnataka\n",
      "\n",
      "eh et a te Se pn eae: tt A tt I A ee\n",
      "\n",
      "e-Stamp\n",
      "\n",
      " \n",
      "\n",
      "Certificate No. : IN-KA07451563165168P\n",
      "\n",
      "Certificate Issued Date : 24-Mar-2017 03:32 PM\n",
      "Account Reference : NONACC (FI)/ kacrsfl08/ VARTHUR1/ KA-BN\n",
      "Unique Doc. Reference : SUBIN-KAKACRSFL086362826761 1246P\n",
      "Purchased by -: HB VENKATARAMANAPPA\n",
      "Description of Document - Article 30 Lease of Immovable Property\n",
      "Description : RENTAL AGREEMENT\n",
      "Consideration Price (Rs.) : 0\n",
      "(Zero)\n",
      "First Party - HB VENKATARAMANAPPA\n",
      "Second Party : NITINGUPTHA | ,\n",
      "Stamp Duty Paid By > HB VENKATARAMANAPPA | , |\n",
      "Stamp Duty Amount(Rs.) : 100 | yy\n",
      "\n",
      "(One Hundred only)\n",
      "\n",
      " \n",
      "\n",
      "pe eee eee eee ree Please write or type below this line--.---0s00-cceeeeesenseces-ncccesennnnncccces\n",
      "\n",
      "RENT AGREEMENT\n",
      "\n",
      "This agreement of lease entered and executed in Bangalore on this 24%\n",
      "day of March-2017 (24.03.2017), BY and BEYWEEN:\n",
      "\n",
      "Mr.H.B.VENKATARAMANAPPA, aged about 70 Years, S/ O. Late.\n",
      "Batchanna, Residing at: No.1, Sri Chowdeshwari Nilaya, 1st Cross, Vinayaka\n",
      "\n",
      "Nagara, Hagadur Main Road, Whitefield, Bangalore-560 066.\n",
      "\n",
      "nee\n",
      "Statutory Alert:\n",
      "\n",
      "1. The authenticity of this Stamp Certificate should be verified at “www.shcilestamp.com”, Any discrepancy in the details on this Certificate and as\n",
      "available on the website renders it invalid.\n",
      "\n",
      "2. The onus of checking the legitimacy is on the users of the certificate.\n",
      "\n",
      "3 In case af any dierranann: nianen infarm tha Crnmnatans A\n",
      "None\n",
      "Hereinafter called to as the ‘LESSOR’ (which expression shall where the\n",
      "context so admits, mean and include her respective heirs, legal\n",
      "representatives, administrators, successors, executors and assigns) of the\n",
      "ONE PART:\n",
      "\n",
      "AND\n",
      "\n",
      "Mr. NITIN GUPTA, Residing at: No.230/3, Napier Town, Beside, Goodwill\n",
      "Complex, Jabalpur, Madhya Pradesh-482001, Office at: Seat 31W804,\n",
      "Gejwtc, Whitefield, Bengaluru-560066. Mobile: 7738065767.\n",
      "\n",
      "Hereinafter CALLED “THE LESSEE’ (which expression shall where the\n",
      "context so admits and include her respective his legal representatives,\n",
      "administrators, successors, executors and assigns) of the OTHER PART\n",
      "\n",
      "That the owner is the absolute owner of the RCC roofed Residential Apt\n",
      "named as “SAROJ SYMPHONY II” having Ground Floor, First Floor,\n",
      "Second Floor and Third Floor in which in the SAROJ SYMPHONY II\n",
      "Phase 2 B Block First Floor Flat No.102, 2BHK in the 1110 Sq.ft,\n",
      "Nagondanahalli Village, Whitefield Post, Bangalore-560 066.\n",
      "\n",
      "AND WHEREAS the Lessee herein is desirous of taking the above said\n",
      "premises on rent have approached the Lessor accordingly:\n",
      "\n",
      "AND WHEREAS the Lessor has agreed to rent out the above said premises\n",
      "more fully described in the Schedule given hereunder and hereinafter\n",
      "referred to as the Schedule Premises to the Lessee subject to the following\n",
      "terms and conditions:\n",
      "\n",
      "THE LESSEE HEREBY AGREES AND COVENAMENTS WITH THE LESSOR\n",
      "AS FOLLOWS:\n",
      "\n",
      "1. To pay a monthly rent of Rs.15,000/-(Rupees Fifteen Thousand\n",
      "Only) Rent+ Matinees Charges Rs.2,500/- (Rupees Two Thousand\n",
      "Five Hundred Only) as above month on or before the 5 day of each\n",
      "English Calendar month without fail, incase if lessee is failed to pay\n",
      "rent for two months will be charged 2% on outstanding rent. For the\n",
      "Residential Purpose from 10‘ day of January-2017.\n",
      "\n",
      "2. The Total lease amount is sum of Rs. 1,25,000/- ({ Rupees One Lakh\n",
      "Twenty Five Thousand Only) paid by way of cash, as Security\n",
      "deposit. This is refundable at the time of termination of the rent period\n",
      "to the Lessee or upon earlier termination free ofjinterest.\n",
      "\n",
      "Sethe sesaaeidees toa dnaclion edt oiheaoresmen\n",
      "\n",
      "foo ateenenenenen nn NMNAARARN NY MARE oti reo NN eC TAMAYO ME MUMMERS OS Pe he 8 SOOHOIIEEES a Nennnneee\n",
      "None\n",
      "3. The Lessee during the tenancy period should keep and maintain the\n",
      "schedule premises in good and tenantable terms.\n",
      "\n",
      "4. To permit the Lessor at all reasonable times to visit the schedule\n",
      "premises with prior notice.\n",
      "\n",
      "5. At all times during the tenure of this lease to use the schedule\n",
      "premises for residential purpose only and not for running any\n",
      "business. Notice: If the Owner or the Tenants wish to terminate the\n",
      "lease period, each party should issue (2) two months notice in\n",
      "writing to each other.\n",
      "\n",
      "6. THE LESSEE shall not erect any temporary, semi- prominent or\n",
      "permanent structure in the schedule premises.\n",
      "\n",
      "7. The Lessee cannot assign the tenancy rights, sublet, under-let and\n",
      "part with the possession of the schedule premises.\n",
      "\n",
      "8. The lessee shall be liable to pay the electricity consumption and water\n",
      "consumption charges as per the readings of meters fixed thereto.\n",
      "\n",
      "9. The Lessee shall undertake all minor repairs and rectification of\n",
      "electrical, water and sewerage connections at his own cost during the\n",
      "course of his tenancy.\n",
      "\n",
      "10. That the Lessee paying the monthly rent properly and regularly is\n",
      "entitled to enjoy peaceful possession of the schedule premises without\n",
      "any hindrances from the Lessor or any other person claiming under,\n",
      "for the Lessor during the tenure of this agreement,\n",
      "\n",
      "11. The Lessee agrees to issue one month notices in the event of\n",
      "termination of agreement, however the lessee assures for Lessor a\n",
      "minimum term of eleven months.\n",
      "\n",
      "THE LESSOR HEREBY AND COVENNT WITH THE LESSEE AS FOLLOWS:\n",
      "\n",
      "1. At all times during the ténure of this agreement to pay the property\n",
      "and the other taxes and cesses to the concerned authorities.\n",
      "\n",
      "2. The Lessor is also entitled to determine this agreement for breach of\n",
      "any conditions the right of re-entry into the schedule premises from\n",
      "the Lessee inclusive of arrears of rent.\n",
      "\n",
      "3. The tenancy month shall be English Calendar, month.\n",
      "None\n",
      "4. It is mutually agreed between the Lessee that rent payable by the\n",
      "Lessee will be enhanced by 5% after eleven months.\n",
      "\n",
      "5. That the LESSEE shall maintain the schedule premises in good and\n",
      "tenantable condition and handover the same conditions at the time of\n",
      "terminating the premises and painting also, if the LESSEE cause any\n",
      "kinds of damages, the mutual amount shall be deduct the security\n",
      "deposit.\n",
      "\n",
      "6. The term of agreement is for eleven months and renewable from time\n",
      "to time as agreed by the owner.\n",
      "SCHEDULE\n",
      "\n",
      "All that RCC roofed Residential Apt named as “SAROJ SYMPHONY II”\n",
      "having Ground Floor, First Floor, Second Floor and Third Floor in which in\n",
      "the . SAROJ SYMPHONY II Phase 2 B Block First Floor Flat No.102,\n",
      "2BHK in the 1110 Sq.ft, Nagondanahalli Village, Whitefield Post,\n",
      "Bangalore-560 066. Consisting of TWO BHK, One Hall, One Kitchen, Two\n",
      "Bedrooms, With wardrobes, one dining and living room, attached bathrooms\n",
      "and toilets One Car Parking.\n",
      "\n",
      "Fitting : 4 Fans, 5 Tub lights, 1 Mirer at Main Room.\n",
      "\n",
      "IN WITNESS WHEREOF the both parties hereto have caused their respective\n",
      "signature, common seals to be hereunto affixed the day and year herein\n",
      "above written.\n",
      "\n",
      "WITNESSES: othe\n",
      "| NP Wyn\n",
      "1. LESSOR |\n",
      "\n",
      "wT\n",
      "\n",
      "2. LESSEE\n",
      "None\n"
     ]
    },
    {
     "ename": "OSError",
     "evalue": "cannot identify image file '/home/ujjwal/Desktop/OCR/images/3458.jpg'",
     "output_type": "error",
     "traceback": [
      "\u001b[0;31m---------------------------------------------------------------------------\u001b[0m",
      "\u001b[0;31mOSError\u001b[0m                                   Traceback (most recent call last)",
      "\u001b[0;32m<ipython-input-11-6bb96c56741a>\u001b[0m in \u001b[0;36m<module>\u001b[0;34m()\u001b[0m\n\u001b[1;32m      2\u001b[0m     \u001b[0mim\u001b[0m \u001b[0;34m=\u001b[0m \u001b[0mcv2\u001b[0m\u001b[0;34m.\u001b[0m\u001b[0mimread\u001b[0m\u001b[0;34m(\u001b[0m\u001b[0mstr\u001b[0m\u001b[0;34m(\u001b[0m\u001b[0mi\u001b[0m\u001b[0;34m)\u001b[0m\u001b[0;34m+\u001b[0m\u001b[0;34m\".jpg\"\u001b[0m\u001b[0;34m)\u001b[0m\u001b[0;34m\u001b[0m\u001b[0m\n\u001b[1;32m      3\u001b[0m     \u001b[0mx\u001b[0m \u001b[0;34m=\u001b[0m \u001b[0mpreprocess\u001b[0m\u001b[0;34m(\u001b[0m\u001b[0mim\u001b[0m\u001b[0;34m)\u001b[0m\u001b[0;34m\u001b[0m\u001b[0m\n\u001b[0;32m----> 4\u001b[0;31m     \u001b[0mprint\u001b[0m\u001b[0;34m(\u001b[0m\u001b[0mocr\u001b[0m\u001b[0;34m(\u001b[0m\u001b[0mx\u001b[0m\u001b[0;34m)\u001b[0m\u001b[0;34m)\u001b[0m\u001b[0;34m\u001b[0m\u001b[0m\n\u001b[0m",
      "\u001b[0;32m<ipython-input-9-22708733ee17>\u001b[0m in \u001b[0;36mocr\u001b[0;34m(filename)\u001b[0m\n\u001b[1;32m      1\u001b[0m \u001b[0;32mdef\u001b[0m \u001b[0mocr\u001b[0m\u001b[0;34m(\u001b[0m\u001b[0mfilename\u001b[0m\u001b[0;34m)\u001b[0m\u001b[0;34m:\u001b[0m\u001b[0;34m\u001b[0m\u001b[0m\n\u001b[1;32m      2\u001b[0m     \u001b[0mpath\u001b[0m \u001b[0;34m=\u001b[0m \u001b[0mos\u001b[0m\u001b[0;34m.\u001b[0m\u001b[0mgetcwd\u001b[0m\u001b[0;34m(\u001b[0m\u001b[0;34m)\u001b[0m\u001b[0;34m\u001b[0m\u001b[0m\n\u001b[0;32m----> 3\u001b[0;31m     \u001b[0mim\u001b[0m \u001b[0;34m=\u001b[0m \u001b[0mImage\u001b[0m\u001b[0;34m.\u001b[0m\u001b[0mopen\u001b[0m\u001b[0;34m(\u001b[0m\u001b[0mpath\u001b[0m\u001b[0;34m+\u001b[0m\u001b[0;34m\"/\"\u001b[0m\u001b[0;34m+\u001b[0m\u001b[0mfilename\u001b[0m\u001b[0;34m)\u001b[0m\u001b[0;34m\u001b[0m\u001b[0m\n\u001b[0m\u001b[1;32m      4\u001b[0m     \u001b[0mtext\u001b[0m \u001b[0;34m=\u001b[0m \u001b[0mpytesseract\u001b[0m\u001b[0;34m.\u001b[0m\u001b[0mimage_to_string\u001b[0m\u001b[0;34m(\u001b[0m\u001b[0mim\u001b[0m\u001b[0;34m)\u001b[0m\u001b[0;34m\u001b[0m\u001b[0m\n\u001b[1;32m      5\u001b[0m     \u001b[0mprint\u001b[0m\u001b[0;34m(\u001b[0m\u001b[0mtext\u001b[0m\u001b[0;34m)\u001b[0m\u001b[0;34m\u001b[0m\u001b[0m\n",
      "\u001b[0;32m~/anaconda3/lib/python3.6/site-packages/PIL/Image.py\u001b[0m in \u001b[0;36mopen\u001b[0;34m(fp, mode)\u001b[0m\n\u001b[1;32m   2583\u001b[0m         \u001b[0mfp\u001b[0m\u001b[0;34m.\u001b[0m\u001b[0mclose\u001b[0m\u001b[0;34m(\u001b[0m\u001b[0;34m)\u001b[0m\u001b[0;34m\u001b[0m\u001b[0m\n\u001b[1;32m   2584\u001b[0m     raise IOError(\"cannot identify image file %r\"\n\u001b[0;32m-> 2585\u001b[0;31m                   % (filename if filename else fp))\n\u001b[0m\u001b[1;32m   2586\u001b[0m \u001b[0;34m\u001b[0m\u001b[0m\n\u001b[1;32m   2587\u001b[0m \u001b[0;31m#\u001b[0m\u001b[0;34m\u001b[0m\u001b[0;34m\u001b[0m\u001b[0m\n",
      "\u001b[0;31mOSError\u001b[0m: cannot identify image file '/home/ujjwal/Desktop/OCR/images/3458.jpg'"
     ]
    }
   ],
   "source": [
    "for i in range(1,count+1):\n",
    "    im = cv2.imread(str(i)+\".jpg\")\n",
    "    x = preprocess(im)\n",
    "    print(ocr(x))"
   ]
  },
  {
   "cell_type": "code",
   "execution_count": null,
   "metadata": {},
   "outputs": [],
   "source": []
  },
  {
   "cell_type": "code",
   "execution_count": null,
   "metadata": {},
   "outputs": [],
   "source": []
  },
  {
   "cell_type": "code",
   "execution_count": null,
   "metadata": {},
   "outputs": [],
   "source": []
  }
 ],
 "metadata": {
  "kernelspec": {
   "display_name": "Python 3",
   "language": "python",
   "name": "python3"
  },
  "language_info": {
   "codemirror_mode": {
    "name": "ipython",
    "version": 3
   },
   "file_extension": ".py",
   "mimetype": "text/x-python",
   "name": "python",
   "nbconvert_exporter": "python",
   "pygments_lexer": "ipython3",
   "version": "3.6.4"
  }
 },
 "nbformat": 4,
 "nbformat_minor": 2
}
