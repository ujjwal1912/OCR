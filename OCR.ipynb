{
 "cells": [
  {
   "cell_type": "markdown",
   "metadata": {},
   "source": [
    "# OCR"
   ]
  },
  {
   "cell_type": "code",
   "execution_count": 1,
   "metadata": {},
   "outputs": [],
   "source": [
    "#importing libraries\n",
    "from PIL import Image\n",
    "import pytesseract\n",
    "import cv2\n",
    "import os\n",
    "import time\n",
    "import nltk\n",
    "import string\n",
    "from pdf2image import convert_from_path\n",
    "import subprocess\n",
    "os.chdir('/home/ujjwal/Desktop/OCR')"
   ]
  },
  {
   "cell_type": "markdown",
   "metadata": {},
   "source": [
    "## Convert to gray scale"
   ]
  },
  {
   "cell_type": "code",
   "execution_count": 2,
   "metadata": {},
   "outputs": [],
   "source": [
    "def preprocess(image,i): \n",
    "    try:\n",
    "        gray = cv2.threshold(gray, 0, 255, cv2.THRESH_BINARY | cv2.THRESH_OTSU)[1]\n",
    "    except:\n",
    "        gray = image\n",
    "    filename = \"{}.jpg\".format(i*100)\n",
    "    cv2.imwrite(filename, gray)\n",
    "    return filename"
   ]
  },
  {
   "cell_type": "markdown",
   "metadata": {},
   "source": [
    "## Writing output of OCR in a file"
   ]
  },
  {
   "cell_type": "code",
   "execution_count": 3,
   "metadata": {},
   "outputs": [],
   "source": [
    "def ocr(filename):\n",
    "    path = os.getcwd()\n",
    "    im = Image.open(path+\"/\"+filename)\n",
    "    text = pytesseract.image_to_string(im)\n",
    "    os.remove(filename)\n",
    "    return text"
   ]
  },
  {
   "cell_type": "markdown",
   "metadata": {},
   "source": [
    "## Converting PDF file to images"
   ]
  },
  {
   "cell_type": "code",
   "execution_count": 4,
   "metadata": {},
   "outputs": [],
   "source": [
    "# pages = convert_from_path('Gift_Deed.pdf',500)\n",
    "# count = 1\n",
    "# os.chdir(\"./images\")\n",
    "# for page in pages:\n",
    "#     file = \"{}.jpg\".format(count)\n",
    "#     print(file)\n",
    "#     count += 1\n",
    "#     page.save(file,'JPEG')"
   ]
  },
  {
   "cell_type": "markdown",
   "metadata": {},
   "source": [
    "## Extracting Text from Images"
   ]
  },
  {
   "cell_type": "code",
   "execution_count": 5,
   "metadata": {
    "scrolled": true
   },
   "outputs": [
    {
     "name": "stdout",
     "output_type": "stream",
     "text": [
      "1\n",
      "2\n",
      "3\n",
      "4\n",
      "5\n",
      "6\n",
      "7\n",
      "8\n",
      "9\n",
      "10\n",
      "11\n"
     ]
    }
   ],
   "source": [
    "count = 11\n",
    "os.chdir(\"./images\")\n",
    "for i in range(1,count+1):\n",
    "    im = cv2.imread(str(i)+\".jpg\")\n",
    "    x = preprocess(im,i)\n",
    "    print(i)\n",
    "    with open('out.txt','a') as f:\n",
    "        f.write(str(ocr(x)))"
   ]
  },
  {
   "cell_type": "markdown",
   "metadata": {},
   "source": [
    "# Removing Punctuation Marks and Noisy Words"
   ]
  },
  {
   "cell_type": "code",
   "execution_count": 6,
   "metadata": {},
   "outputs": [],
   "source": [
    "english_words = set(w.lower() for w in nltk.corpus.words.words())"
   ]
  },
  {
   "cell_type": "code",
   "execution_count": 23,
   "metadata": {},
   "outputs": [],
   "source": [
    "# Remove punctuation marks\n",
    "exclude = set(string.punctuation)\n",
    "out = open('out.txt','r')\n",
    "\n",
    "nf = open('new.txt','a')\n",
    "for line in out.readlines():\n",
    "    for word in line.split():\n",
    "        punc_free = \" \".join([a for a in word.split() if a.lower() not in exclude])\n",
    "        eng = \" \".join([str(a)+\" \" for a in word.split() if a.lower() in english_words])\n",
    "        nf.write(eng)\n",
    "    if len(eng)<4:\n",
    "        continue\n",
    "    nf.write('\\n')\n",
    "out.close()\n",
    "nf.close()"
   ]
  },
  {
   "cell_type": "code",
   "execution_count": null,
   "metadata": {},
   "outputs": [],
   "source": []
  }
 ],
 "metadata": {
  "kernelspec": {
   "display_name": "Python 3",
   "language": "python",
   "name": "python3"
  },
  "language_info": {
   "codemirror_mode": {
    "name": "ipython",
    "version": 3
   },
   "file_extension": ".py",
   "mimetype": "text/x-python",
   "name": "python",
   "nbconvert_exporter": "python",
   "pygments_lexer": "ipython3",
   "version": "3.6.4"
  }
 },
 "nbformat": 4,
 "nbformat_minor": 2
}
